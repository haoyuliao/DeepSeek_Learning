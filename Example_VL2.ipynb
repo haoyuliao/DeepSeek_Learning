{
 "cells": [
  {
   "cell_type": "code",
   "execution_count": 1,
   "id": "77d36cb6-1e59-4059-bace-93431a83c853",
   "metadata": {
    "tags": []
   },
   "outputs": [
    {
     "name": "stdout",
     "output_type": "stream",
     "text": [
      "Python version is above 3.10, patching the collections module.\n"
     ]
    },
    {
     "name": "stderr",
     "output_type": "stream",
     "text": [
      "WARNING[XFORMERS]: xFormers can't load C++/CUDA extensions. xFormers was built for:\n",
      "    PyTorch 2.0.1+cu118 with CUDA 1108 (you have 2.6.0+cu124)\n",
      "    Python  3.10.13 (you have 3.10.16)\n",
      "  Please reinstall xformers (see https://github.com/facebookresearch/xformers#installing-xformers)\n",
      "  Memory-efficient attention, SwiGLU, sparse and more won't be available.\n",
      "  Set XFORMERS_MORE_DETAILS=1 for more details\n",
      "/blue/changzhao/haoyuliao/.conda/envs/hao-vl2/lib/python3.10/site-packages/xformers/ops/swiglu_op.py:107: FutureWarning: `torch.cuda.amp.custom_fwd(args...)` is deprecated. Please use `torch.amp.custom_fwd(args..., device_type='cuda')` instead.\n",
      "  def forward(cls, ctx, x, w1, b1, w2, b2, w3, b3):\n",
      "/blue/changzhao/haoyuliao/.conda/envs/hao-vl2/lib/python3.10/site-packages/xformers/ops/swiglu_op.py:128: FutureWarning: `torch.cuda.amp.custom_bwd(args...)` is deprecated. Please use `torch.amp.custom_bwd(args..., device_type='cuda')` instead.\n",
      "  def backward(cls, ctx, dx5):\n"
     ]
    }
   ],
   "source": [
    "import torch\n",
    "from transformers import AutoModelForCausalLM\n",
    "\n",
    "from deepseek_vl2.models import DeepseekVLV2Processor, DeepseekVLV2ForCausalLM\n",
    "from deepseek_vl2.utils.io import load_pil_images"
   ]
  },
  {
   "cell_type": "markdown",
   "id": "43dc5e90-b3d2-4dc2-9079-7f790fd2bb67",
   "metadata": {},
   "source": [
    "<h1>Load model<h1/>"
   ]
  },
  {
   "cell_type": "code",
   "execution_count": null,
   "id": "d5ca2ba8-f55c-477b-b4d2-a0ac2c317d50",
   "metadata": {
    "tags": []
   },
   "outputs": [
    {
     "name": "stderr",
     "output_type": "stream",
     "text": [
      "/home/haoyuliao/.local/lib/python3.10/site-packages/huggingface_hub/file_download.py:795: FutureWarning: `resume_download` is deprecated and will be removed in version 1.0.0. Downloads always resume when possible. If you want to force a new download, use `force_download=True`.\n",
      "  warnings.warn(\n",
      "Special tokens have been added in the vocabulary, make sure the associated word embeddings are fine-tuned or trained.\n"
     ]
    },
    {
     "name": "stdout",
     "output_type": "stream",
     "text": [
      "Add pad token = ['<｜▁pad▁｜>'] to the tokenizer\n",
      "<｜▁pad▁｜>:2\n",
      "Add image token = ['<image>'] to the tokenizer\n",
      "<image>:128815\n",
      "Add grounding-related tokens = ['<|ref|>', '<|/ref|>', '<|det|>', '<|/det|>', '<|grounding|>'] to the tokenizer with input_ids\n",
      "<|ref|>:128816\n",
      "<|/ref|>:128817\n",
      "<|det|>:128818\n",
      "<|/det|>:128819\n",
      "<|grounding|>:128820\n",
      "Add chat tokens = ['<|User|>', '<|Assistant|>'] to the tokenizer with input_ids\n",
      "<|User|>:128821\n",
      "<|Assistant|>:128822\n",
      "\n"
     ]
    },
    {
     "data": {
      "application/vnd.jupyter.widget-view+json": {
       "model_id": "1db509a1d3ad41b1b0aa5343cd2f642b",
       "version_major": 2,
       "version_minor": 0
      },
      "text/plain": [
       "Loading checkpoint shards:   0%|          | 0/8 [00:00<?, ?it/s]"
      ]
     },
     "metadata": {},
     "output_type": "display_data"
    }
   ],
   "source": [
    "# specify the path to the model\n",
    "model_path = \"deepseek-ai/deepseek-vl2\" #\"deepseek-ai/deepseek-vl2-tiny\"\n",
    "vl_chat_processor: DeepseekVLV2Processor = DeepseekVLV2Processor.from_pretrained(model_path)\n",
    "tokenizer = vl_chat_processor.tokenizer\n",
    "\n",
    "vl_gpt: DeepseekVLV2ForCausalLM = AutoModelForCausalLM.from_pretrained(model_path, trust_remote_code=True)\n",
    "vl_gpt = vl_gpt.to(torch.bfloat16).cuda().eval()"
   ]
  },
  {
   "cell_type": "markdown",
   "id": "a4ea96da-ceb9-48e1-b19a-06dcbc7efede",
   "metadata": {},
   "source": [
    "<h1>Mixture-of-Experts Vision-Language Models for Advanced Multimodal Understanding <h1/>"
   ]
  },
  {
   "cell_type": "code",
   "execution_count": 24,
   "id": "6c6c9547-2367-42b1-beda-1e63b249526b",
   "metadata": {
    "tags": []
   },
   "outputs": [
    {
     "name": "stdout",
     "output_type": "stream",
     "text": [
      "<|User|>: Describe the content of the image\n",
      "\n",
      "<|Assistant|>: The image appears to be a digital representation of a book cover. It features a central illustration of a person, possibly a woman, with long hair, wearing a dress. The background is a gradient of colors, transitioning from a darker shade at the top to a lighter one at the bottom. There are no visible texts or additional elements on the cover.<｜end▁of▁sentence｜>\n"
     ]
    }
   ],
   "source": [
    "## single image conversation example\n",
    "## Please note that <|ref|> and <|/ref|> are designed specifically for the object localization feature. These special tokens are not required for normal conversations.\n",
    "## If you would like to experience the grounded captioning functionality (responses that include both object localization and reasoning), you need to add the special token <|grounding|> at the beginning of the prompt. Examples could be found in Figure 9 of our paper.\n",
    "\n",
    "\n",
    "question = \"Can you tell me what are in the images?\"\n",
    "#question = \"Do you see people is hiking?\" #Now, dertermine which CES. Cultural ecosystem services (CES) are intangible, non-material benefits derived from nature through direct human outdoor interactions with the natural environment. In this study, we are interested in detecting 12 CES classes: Hiking, Biking, Boating, Camping, Fishing, Horseback Riding, Hunting, Shelling, Surfing, Swimming, Wildlife Viewing, Landscape Aesthetics. We define each class as follow. Hiking: the activity of going for long walks, especially in the country or woods. Biking: the activity of riding a bicycle. Boating: rowing or sailing in boats as a sport or form of recreation. Camping: the activity of spending a vacation living in a camp, tent, or camper. Fishing: the activity of catching fish. Horse riding: the sport or activity of riding horses. Hunting: the activity of hunting wild animals. Shelling: activity of collecting seashells. Surfing: the sport or pastime of riding a wave towards the shore while standing or lying on a surfboard. Swimming: swimming. Wildlife viewing: the act of observing wild animals and plants in their natural environment. Landscape aesthetics: the enjoyment and pleasure felt through the observation of environmental scenery. Now determine if an image contains one of the above 12 CES activities. If yes, tell me which class it belongs to. Only give me short answers, no need to provide the reasoning.\"\n",
    "#question = \"Cultural ecosystem services (CES) are intangible, non-material benefits derived from nature through direct human outdoor interactions with the natural environment. In this study, we are interested in detecting 12 CES classes: Hiking, Biking, Boating, Camping, Fishing, Horseback Riding, Hunting, Shelling, Surfing, Swimming, Wildlife Viewing, Landscape Aesthetics. We define each class as follow. Hiking: the activity of going for long walks, especially in the country or woods. Biking: the activity of riding a bicycle. Boating: rowing or sailing in boats as a sport or form of recreation. Camping: the activity of spending a vacation living in a camp, tent, or camper. Fishing: the activity of catching fish. Horse riding: the sport or activity of riding horses. Hunting: the activity of hunting wild animals. Shelling: activity of collecting seashells. Surfing: the sport or pastime of riding a wave towards the shore while standing or lying on a surfboard. Swimming: swimming. Wildlife viewing: the act of observing wild animals and plants in their natural environment. Landscape aesthetics: the enjoyment and pleasure felt through the observation of environmental scenery. Now determine if an image contains one of the above 12 CES activities. If yes, tell me which class it belongs to. Only give me short answers, no need to provide the reasoning.\"\n",
    "#question = \"Cultural ecosystem services (CES) are intangible, non-material benefits derived from nature through direct human outdoor interactions with the natural environment. In this study, we are interested in detecting 12 CES classes: Hiking, Biking, Boating, Camping, Fishing, Horseback Riding, Hunting, Shelling, Surfing, Swimming, Wildlife Viewing, Landscape Aesthetics. We define each class as follow. Hiking: the activity of going for long walks, especially in the country or woods. Biking: the activity of riding a bicycle. Boating: rowing or sailing in boats as a sport or form of recreation. Camping: the activity of spending a vacation living in a camp, tent, or camper. Fishing: the activity of catching fish. Horse riding: the sport or activity of riding horses. Hunting: the activity of hunting wild animals. Shelling: activity of collecting seashells. Surfing: the sport or pastime of riding a wave towards the shore while standing or lying on a surfboard. Swimming: swimming. Wildlife viewing: the act of observing wild animals and plants in their natural environment. Landscape aesthetics: the enjoyment and pleasure felt through the observation of environmental scenery. Now determine if an image contains one of the above 12 CES activities. If yes, tell me which class it belongs to. If not belog 12 CES activities, reply No CES. Only give me short answers for which class, no need to provide the reasoning.\"\n",
    "#question = \"Do you see Landscape Aesthetics (the enjoyment and pleasure felt through the observation of environmental scenery)?\"\n",
    "#Hiking, Biking, Boating, Camping, Fishing, Horseback Riding, Hunting, Shelling, Surfing, Swimming, Wildlife Viewing, Landscape Aesthetics?\"\n",
    "\n",
    "#question = \"Do you see people is biking defiend this is a person riding a bicycle, a bike, or biking equipment off-road and over rough terrain and mountain trails?\"\n",
    "\n",
    "#image_path = \"./832_49357079873_actual_Boating.png\"\n",
    "#image_path = \"./5241_27602172055_actual_No_CES.png\"\n",
    "#image_path = \"./CES_Images//5024_48100184206_actual_No_CES.png\"\n",
    "image_path1 = \"./CES_Images//5059_35451390872_actual_No_CES.png\"\n",
    "image_path2 = \"./CES_Images//832_49357079873_actual_Boating.png\"\n",
    "image_path3 = \"./CES_Images//5051_28946084657_actual_No_CES.png\"\n",
    "question = \"Describe the content of the image\"#\"How many people in the image?\"#\"Can you tell me what are in the images?\"\n",
    "\n",
    "image_path = \"./CES_Images//832_49357079873_actual_Boating.png\"\n",
    "\n",
    "conversation = [\n",
    "    {\n",
    "        \"role\": \"<|User|>\",\n",
    "        \"content\": f\"{question}\",\n",
    "        \"images\": [f\"{image_path}\"],\n",
    "    },\n",
    "    {\"role\": \"<|Assistant|>\", \"content\": \"\"},\n",
    "]\n",
    "\n",
    "# load images and prepare for inputs\n",
    "pil_images = load_pil_images(conversation)\n",
    "prepare_inputs = vl_chat_processor(\n",
    "    conversations=conversation,\n",
    "    images=pil_images,\n",
    "    force_batchify=True,\n",
    "    system_prompt=\"\"\n",
    ").to(vl_gpt.device)\n",
    "\n",
    "# run image encoder to get the image embeddings\n",
    "inputs_embeds = vl_gpt.prepare_inputs_embeds(**prepare_inputs)\n",
    "\n",
    "# run the model to get the response\n",
    "outputs = vl_gpt.language.generate(\n",
    "    inputs_embeds=inputs_embeds,\n",
    "    attention_mask=prepare_inputs.attention_mask,\n",
    "    pad_token_id=tokenizer.eos_token_id,\n",
    "    bos_token_id=tokenizer.bos_token_id,\n",
    "    eos_token_id=tokenizer.eos_token_id,\n",
    "    max_new_tokens=512,\n",
    "    do_sample=False,\n",
    "    use_cache=True\n",
    ")\n",
    "\n",
    "answer = tokenizer.decode(outputs[0].cpu().tolist(), skip_special_tokens=False)\n",
    "print(f\"{prepare_inputs['sft_format'][0]}\", answer)"
   ]
  },
  {
   "cell_type": "code",
   "execution_count": 20,
   "id": "b92f052e-0961-4c03-ae1b-4e5e078c4004",
   "metadata": {},
   "outputs": [
    {
     "name": "stdout",
     "output_type": "stream",
     "text": [
      "<|User|>: This is image_1: ./CES_Images//5059_35451390872_actual_No_CES.png\n",
      "This is image_2: ./CES_Images//5027_12179796394_actual_No_CES.png\n",
      "This is image_3: ./CES_Images//5051_28946084657_actual_No_CES.png\n",
      " Can you tell me what are in the images?\n",
      "\n",
      "<|Assistant|>: The images provided appear to be placeholder images used in the development of a website or application. These images are typically used to indicate where actual content will be placed once the final design is ready. They are often referred to as \"actual\" images because they represent the final state of the content that will be displayed on the website or application.\n",
      "\n",
      "In this case, the images are named with a sequence number (e.g., \"5059_35451390872_actual_No_CES.png\") and are located in the \"CES_Images\" directory. The \"actual\" label suggests that these images are intended to be used as a reference or template for the final design of the website or application.<｜end▁of▁sentence｜>\n"
     ]
    }
   ],
   "source": [
    "#question = \"Describe the image.\"\n",
    "#question = \"Do you see people is hiking?\" #Now, dertermine which CES. Cultural ecosystem services (CES) are intangible, non-material benefits derived from nature through direct human outdoor interactions with the natural environment. In this study, we are interested in detecting 12 CES classes: Hiking, Biking, Boating, Camping, Fishing, Horseback Riding, Hunting, Shelling, Surfing, Swimming, Wildlife Viewing, Landscape Aesthetics. We define each class as follow. Hiking: the activity of going for long walks, especially in the country or woods. Biking: the activity of riding a bicycle. Boating: rowing or sailing in boats as a sport or form of recreation. Camping: the activity of spending a vacation living in a camp, tent, or camper. Fishing: the activity of catching fish. Horse riding: the sport or activity of riding horses. Hunting: the activity of hunting wild animals. Shelling: activity of collecting seashells. Surfing: the sport or pastime of riding a wave towards the shore while standing or lying on a surfboard. Swimming: swimming. Wildlife viewing: the act of observing wild animals and plants in their natural environment. Landscape aesthetics: the enjoyment and pleasure felt through the observation of environmental scenery. Now determine if an image contains one of the above 12 CES activities. If yes, tell me which class it belongs to. Only give me short answers, no need to provide the reasoning.\"\n",
    "question = \"Cultural ecosystem services (CES) are intangible, non-material benefits derived from nature through direct human outdoor interactions with the natural environment. In this study, we are interested in detecting 12 CES classes: Hiking, Biking, Boating, Camping, Fishing, Horseback Riding, Hunting, Shelling, Surfing, Swimming, Wildlife Viewing, Landscape Aesthetics. We define each class as follow. Hiking: the activity of going for long walks, especially in the country or woods. Biking: the activity of riding a bicycle. Boating: rowing or sailing in boats as a sport or form of recreation. Camping: the activity of spending a vacation living in a camp, tent, or camper. Fishing: the activity of catching fish. Horse riding: the sport or activity of riding horses. Hunting: the activity of hunting wild animals. Shelling: activity of collecting seashells. Surfing: the sport or pastime of riding a wave towards the shore while standing or lying on a surfboard. Swimming: swimming. Wildlife viewing: the act of observing wild animals and plants in their natural environment. Landscape aesthetics: the enjoyment and pleasure felt through the observation of environmental scenery. Now determine if an image contains one of the above 12 CES activities. If yes, tell me which class it belongs to. Only give me short answers, no need to provide the reasoning.\"\n",
    "#question = \"Cultural ecosystem services (CES) are intangible, non-material benefits derived from nature through direct human outdoor interactions with the natural environment. In this study, we are interested in detecting 12 CES classes: Hiking, Biking, Boating, Camping, Fishing, Horseback Riding, Hunting, Shelling, Surfing, Swimming, Wildlife Viewing, Landscape Aesthetics. We define each class as follow. Hiking: the activity of going for long walks, especially in the country or woods. Biking: the activity of riding a bicycle. Boating: rowing or sailing in boats as a sport or form of recreation. Camping: the activity of spending a vacation living in a camp, tent, or camper. Fishing: the activity of catching fish. Horse riding: the sport or activity of riding horses. Hunting: the activity of hunting wild animals. Shelling: activity of collecting seashells. Surfing: the sport or pastime of riding a wave towards the shore while standing or lying on a surfboard. Swimming: swimming. Wildlife viewing: the act of observing wild animals and plants in their natural environment. Landscape aesthetics: the enjoyment and pleasure felt through the observation of environmental scenery. Now determine if an image contains one of the above 12 CES activities. If yes, tell me which class it belongs to. If not belog 12 CES activities, reply No CES. Only give me short answers for which class, no need to provide the reasoning.\"\n",
    "#question = \"Do you see Landscape Aesthetics (the enjoyment and pleasure felt through the observation of environmental scenery)?\"\n",
    "#Hiking, Biking, Boating, Camping, Fishing, Horseback Riding, Hunting, Shelling, Surfing, Swimming, Wildlife Viewing, Landscape Aesthetics?\"\n",
    "\n",
    "#question = \"Do you see people is biking defiend this is a person riding a bicycle, a bike, or biking equipment off-road and over rough terrain and mountain trails?\"\n",
    "\n",
    "#image_path = \"./832_49357079873_actual_Boating.png\"\n",
    "#image_path = \"./5241_27602172055_actual_No_CES.png\"\n",
    "#image_path = \"./CES_Images//5024_48100184206_actual_No_CES.png\"\n",
    "image_path1 = \"./CES_Images//5059_35451390872_actual_No_CES.png\"\n",
    "image_path2 = \"./CES_Images//5027_12179796394_actual_No_CES.png\"\n",
    "image_path3 = \"./CES_Images//5051_28946084657_actual_No_CES.png\"\n",
    "# multiple images/interleaved image-text\n",
    "conversation = [\n",
    "    {\n",
    "        \"role\": \"<|User|>\",\n",
    "        \"content\": f\"This is image_1: {image_path1}\\n\"\n",
    "                   f\"This is image_2: {image_path2}\\n\"\n",
    "                   f\"This is image_3: {image_path3}\\n Can you tell me what are in the images?\",\n",
    "        \"images\": [\n",
    "            f\"{image_path1}\",\n",
    "            f\"{image_path2}\",\n",
    "            f\"{image_path3}\",\n",
    "        ],\n",
    "    },\n",
    "    {\"role\": \"<|Assistant|>\", \"content\": \"\"}\n",
    "]\n",
    "\n",
    "conversation = [\n",
    "    {\n",
    "        \"role\": \"<|User|>\",\n",
    "        \"content\": f\"This is image_1: {image_path1}\\n\"\n",
    "                   f\"This is image_2: {image_path2}\\n\"\n",
    "                   f\"This is image_3: {image_path3}\\n Can you tell me what are in the images?\",\n",
    "        \"images\": [\n",
    "            f\"{image_path1}\",\n",
    "            f\"{image_path2}\",\n",
    "            f\"{image_path3}\",\n",
    "        ],\n",
    "    },\n",
    "    {\"role\": \"<|Assistant|>\", \"content\": \"\"}\n",
    "]\n",
    "\n",
    "\n",
    "# load images and prepare for inputs\n",
    "pil_images = load_pil_images(conversation)\n",
    "prepare_inputs = vl_chat_processor(\n",
    "    conversations=conversation,\n",
    "    images=pil_images,\n",
    "    force_batchify=True,\n",
    "    system_prompt=\"\"\n",
    ").to(vl_gpt.device)\n",
    "\n",
    "# run image encoder to get the image embeddings\n",
    "inputs_embeds = vl_gpt.prepare_inputs_embeds(**prepare_inputs)\n",
    "\n",
    "# run the model to get the response\n",
    "outputs = vl_gpt.language.generate(\n",
    "    inputs_embeds=inputs_embeds,\n",
    "    attention_mask=prepare_inputs.attention_mask,\n",
    "    pad_token_id=tokenizer.eos_token_id,\n",
    "    bos_token_id=tokenizer.bos_token_id,\n",
    "    eos_token_id=tokenizer.eos_token_id,\n",
    "    max_new_tokens=512,\n",
    "    do_sample=False,\n",
    "    use_cache=True\n",
    ")\n",
    "\n",
    "answer = tokenizer.decode(outputs[0].cpu().tolist(), skip_special_tokens=False)\n",
    "print(f\"{prepare_inputs['sft_format'][0]}\", answer)"
   ]
  },
  {
   "cell_type": "code",
   "execution_count": null,
   "id": "be31a1a0-ed4a-4840-b383-18942b2d2790",
   "metadata": {},
   "outputs": [],
   "source": []
  }
 ],
 "metadata": {
  "kernelspec": {
   "display_name": "Liao-vl2",
   "language": "python",
   "name": "hao-vl2"
  },
  "language_info": {
   "codemirror_mode": {
    "name": "ipython",
    "version": 3
   },
   "file_extension": ".py",
   "mimetype": "text/x-python",
   "name": "python",
   "nbconvert_exporter": "python",
   "pygments_lexer": "ipython3",
   "version": "3.10.16"
  }
 },
 "nbformat": 4,
 "nbformat_minor": 5
}
